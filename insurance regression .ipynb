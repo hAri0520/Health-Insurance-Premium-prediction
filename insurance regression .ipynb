{
 "cells": [
  {
   "cell_type": "code",
   "execution_count": 1,
   "id": "cc4da5d3",
   "metadata": {
    "execution": {
     "iopub.execute_input": "2021-10-31T15:16:42.074248Z",
     "iopub.status.busy": "2021-10-31T15:16:42.072986Z",
     "iopub.status.idle": "2021-10-31T15:16:42.083342Z",
     "shell.execute_reply": "2021-10-31T15:16:42.083911Z",
     "shell.execute_reply.started": "2021-10-31T15:15:14.510908Z"
    },
    "papermill": {
     "duration": 0.049785,
     "end_time": "2021-10-31T15:16:42.084373",
     "exception": false,
     "start_time": "2021-10-31T15:16:42.034588",
     "status": "completed"
    },
    "tags": []
   },
   "outputs": [],
   "source": [
    "import pandas as pd"
   ]
  },
  {
   "cell_type": "code",
   "execution_count": 2,
   "id": "3b96835b",
   "metadata": {
    "execution": {
     "iopub.execute_input": "2021-10-31T15:16:42.155333Z",
     "iopub.status.busy": "2021-10-31T15:16:42.154708Z",
     "iopub.status.idle": "2021-10-31T15:16:42.178027Z",
     "shell.execute_reply": "2021-10-31T15:16:42.178671Z",
     "shell.execute_reply.started": "2021-10-31T15:15:14.543545Z"
    },
    "papermill": {
     "duration": 0.059766,
     "end_time": "2021-10-31T15:16:42.178897",
     "exception": false,
     "start_time": "2021-10-31T15:16:42.119131",
     "status": "completed"
    },
    "tags": []
   },
   "outputs": [],
   "source": [
    "data=pd.read_csv(\"insurance.csv\")\n"
   ]
  },
  {
   "cell_type": "markdown",
   "id": "4442ca1b",
   "metadata": {
    "papermill": {
     "duration": 0.032168,
     "end_time": "2021-10-31T15:16:42.244728",
     "exception": false,
     "start_time": "2021-10-31T15:16:42.212560",
     "status": "completed"
    },
    "tags": []
   },
   "source": [
    "### 1. Display Top 5 Rows of The Dataset"
   ]
  },
  {
   "cell_type": "code",
   "execution_count": 3,
   "id": "4c97ace2",
   "metadata": {
    "execution": {
     "iopub.execute_input": "2021-10-31T15:16:42.312619Z",
     "iopub.status.busy": "2021-10-31T15:16:42.311951Z",
     "iopub.status.idle": "2021-10-31T15:16:42.333062Z",
     "shell.execute_reply": "2021-10-31T15:16:42.333600Z",
     "shell.execute_reply.started": "2021-10-31T15:15:14.596465Z"
    },
    "papermill": {
     "duration": 0.056772,
     "end_time": "2021-10-31T15:16:42.333811",
     "exception": false,
     "start_time": "2021-10-31T15:16:42.277039",
     "status": "completed"
    },
    "tags": []
   },
   "outputs": [
    {
     "data": {
      "text/html": [
       "<div>\n",
       "<style scoped>\n",
       "    .dataframe tbody tr th:only-of-type {\n",
       "        vertical-align: middle;\n",
       "    }\n",
       "\n",
       "    .dataframe tbody tr th {\n",
       "        vertical-align: top;\n",
       "    }\n",
       "\n",
       "    .dataframe thead th {\n",
       "        text-align: right;\n",
       "    }\n",
       "</style>\n",
       "<table border=\"1\" class=\"dataframe\">\n",
       "  <thead>\n",
       "    <tr style=\"text-align: right;\">\n",
       "      <th></th>\n",
       "      <th>age</th>\n",
       "      <th>sex</th>\n",
       "      <th>bmi</th>\n",
       "      <th>children</th>\n",
       "      <th>smoker</th>\n",
       "      <th>region</th>\n",
       "      <th>charges</th>\n",
       "    </tr>\n",
       "  </thead>\n",
       "  <tbody>\n",
       "    <tr>\n",
       "      <th>0</th>\n",
       "      <td>19</td>\n",
       "      <td>female</td>\n",
       "      <td>27.900</td>\n",
       "      <td>0</td>\n",
       "      <td>yes</td>\n",
       "      <td>southwest</td>\n",
       "      <td>16884.92400</td>\n",
       "    </tr>\n",
       "    <tr>\n",
       "      <th>1</th>\n",
       "      <td>18</td>\n",
       "      <td>male</td>\n",
       "      <td>33.770</td>\n",
       "      <td>1</td>\n",
       "      <td>no</td>\n",
       "      <td>southeast</td>\n",
       "      <td>1725.55230</td>\n",
       "    </tr>\n",
       "    <tr>\n",
       "      <th>2</th>\n",
       "      <td>28</td>\n",
       "      <td>male</td>\n",
       "      <td>33.000</td>\n",
       "      <td>3</td>\n",
       "      <td>no</td>\n",
       "      <td>southeast</td>\n",
       "      <td>4449.46200</td>\n",
       "    </tr>\n",
       "    <tr>\n",
       "      <th>3</th>\n",
       "      <td>33</td>\n",
       "      <td>male</td>\n",
       "      <td>22.705</td>\n",
       "      <td>0</td>\n",
       "      <td>no</td>\n",
       "      <td>northwest</td>\n",
       "      <td>21984.47061</td>\n",
       "    </tr>\n",
       "    <tr>\n",
       "      <th>4</th>\n",
       "      <td>32</td>\n",
       "      <td>male</td>\n",
       "      <td>28.880</td>\n",
       "      <td>0</td>\n",
       "      <td>no</td>\n",
       "      <td>northwest</td>\n",
       "      <td>3866.85520</td>\n",
       "    </tr>\n",
       "  </tbody>\n",
       "</table>\n",
       "</div>"
      ],
      "text/plain": [
       "   age     sex     bmi  children smoker     region      charges\n",
       "0   19  female  27.900         0    yes  southwest  16884.92400\n",
       "1   18    male  33.770         1     no  southeast   1725.55230\n",
       "2   28    male  33.000         3     no  southeast   4449.46200\n",
       "3   33    male  22.705         0     no  northwest  21984.47061\n",
       "4   32    male  28.880         0     no  northwest   3866.85520"
      ]
     },
     "execution_count": 3,
     "metadata": {},
     "output_type": "execute_result"
    }
   ],
   "source": [
    "data.head()"
   ]
  },
  {
   "cell_type": "markdown",
   "id": "44f361bb",
   "metadata": {
    "papermill": {
     "duration": 0.033173,
     "end_time": "2021-10-31T15:16:42.399973",
     "exception": false,
     "start_time": "2021-10-31T15:16:42.366800",
     "status": "completed"
    },
    "tags": []
   },
   "source": [
    "### 2. Check Last 5 Rows of The Dataset"
   ]
  },
  {
   "cell_type": "code",
   "execution_count": 4,
   "id": "21011832",
   "metadata": {
    "execution": {
     "iopub.execute_input": "2021-10-31T15:16:42.469229Z",
     "iopub.status.busy": "2021-10-31T15:16:42.468544Z",
     "iopub.status.idle": "2021-10-31T15:16:42.481941Z",
     "shell.execute_reply": "2021-10-31T15:16:42.481192Z",
     "shell.execute_reply.started": "2021-10-31T15:15:14.618216Z"
    },
    "papermill": {
     "duration": 0.049452,
     "end_time": "2021-10-31T15:16:42.482114",
     "exception": false,
     "start_time": "2021-10-31T15:16:42.432662",
     "status": "completed"
    },
    "tags": []
   },
   "outputs": [
    {
     "data": {
      "text/html": [
       "<div>\n",
       "<style scoped>\n",
       "    .dataframe tbody tr th:only-of-type {\n",
       "        vertical-align: middle;\n",
       "    }\n",
       "\n",
       "    .dataframe tbody tr th {\n",
       "        vertical-align: top;\n",
       "    }\n",
       "\n",
       "    .dataframe thead th {\n",
       "        text-align: right;\n",
       "    }\n",
       "</style>\n",
       "<table border=\"1\" class=\"dataframe\">\n",
       "  <thead>\n",
       "    <tr style=\"text-align: right;\">\n",
       "      <th></th>\n",
       "      <th>age</th>\n",
       "      <th>sex</th>\n",
       "      <th>bmi</th>\n",
       "      <th>children</th>\n",
       "      <th>smoker</th>\n",
       "      <th>region</th>\n",
       "      <th>charges</th>\n",
       "    </tr>\n",
       "  </thead>\n",
       "  <tbody>\n",
       "    <tr>\n",
       "      <th>1333</th>\n",
       "      <td>50</td>\n",
       "      <td>male</td>\n",
       "      <td>30.97</td>\n",
       "      <td>3</td>\n",
       "      <td>no</td>\n",
       "      <td>northwest</td>\n",
       "      <td>10600.5483</td>\n",
       "    </tr>\n",
       "    <tr>\n",
       "      <th>1334</th>\n",
       "      <td>18</td>\n",
       "      <td>female</td>\n",
       "      <td>31.92</td>\n",
       "      <td>0</td>\n",
       "      <td>no</td>\n",
       "      <td>northeast</td>\n",
       "      <td>2205.9808</td>\n",
       "    </tr>\n",
       "    <tr>\n",
       "      <th>1335</th>\n",
       "      <td>18</td>\n",
       "      <td>female</td>\n",
       "      <td>36.85</td>\n",
       "      <td>0</td>\n",
       "      <td>no</td>\n",
       "      <td>southeast</td>\n",
       "      <td>1629.8335</td>\n",
       "    </tr>\n",
       "    <tr>\n",
       "      <th>1336</th>\n",
       "      <td>21</td>\n",
       "      <td>female</td>\n",
       "      <td>25.80</td>\n",
       "      <td>0</td>\n",
       "      <td>no</td>\n",
       "      <td>southwest</td>\n",
       "      <td>2007.9450</td>\n",
       "    </tr>\n",
       "    <tr>\n",
       "      <th>1337</th>\n",
       "      <td>61</td>\n",
       "      <td>female</td>\n",
       "      <td>29.07</td>\n",
       "      <td>0</td>\n",
       "      <td>yes</td>\n",
       "      <td>northwest</td>\n",
       "      <td>29141.3603</td>\n",
       "    </tr>\n",
       "  </tbody>\n",
       "</table>\n",
       "</div>"
      ],
      "text/plain": [
       "      age     sex    bmi  children smoker     region     charges\n",
       "1333   50    male  30.97         3     no  northwest  10600.5483\n",
       "1334   18  female  31.92         0     no  northeast   2205.9808\n",
       "1335   18  female  36.85         0     no  southeast   1629.8335\n",
       "1336   21  female  25.80         0     no  southwest   2007.9450\n",
       "1337   61  female  29.07         0    yes  northwest  29141.3603"
      ]
     },
     "execution_count": 4,
     "metadata": {},
     "output_type": "execute_result"
    }
   ],
   "source": [
    "data.tail()"
   ]
  },
  {
   "cell_type": "markdown",
   "id": "a009c4a2",
   "metadata": {
    "papermill": {
     "duration": 0.03421,
     "end_time": "2021-10-31T15:16:42.550780",
     "exception": false,
     "start_time": "2021-10-31T15:16:42.516570",
     "status": "completed"
    },
    "tags": []
   },
   "source": [
    "### 3. Find Shape of Our Dataset (Number of Rows And Number of Columns)"
   ]
  },
  {
   "cell_type": "code",
   "execution_count": 5,
   "id": "35e7375a",
   "metadata": {
    "execution": {
     "iopub.execute_input": "2021-10-31T15:16:42.621135Z",
     "iopub.status.busy": "2021-10-31T15:16:42.620422Z",
     "iopub.status.idle": "2021-10-31T15:16:42.626023Z",
     "shell.execute_reply": "2021-10-31T15:16:42.625399Z",
     "shell.execute_reply.started": "2021-10-31T15:15:14.636624Z"
    },
    "papermill": {
     "duration": 0.04193,
     "end_time": "2021-10-31T15:16:42.626188",
     "exception": false,
     "start_time": "2021-10-31T15:16:42.584258",
     "status": "completed"
    },
    "tags": []
   },
   "outputs": [
    {
     "data": {
      "text/plain": [
       "(1338, 7)"
      ]
     },
     "execution_count": 5,
     "metadata": {},
     "output_type": "execute_result"
    }
   ],
   "source": [
    "data.shape"
   ]
  },
  {
   "cell_type": "code",
   "execution_count": 6,
   "id": "ad4f3d2b",
   "metadata": {
    "execution": {
     "iopub.execute_input": "2021-10-31T15:16:42.698361Z",
     "iopub.status.busy": "2021-10-31T15:16:42.697718Z",
     "iopub.status.idle": "2021-10-31T15:16:42.702545Z",
     "shell.execute_reply": "2021-10-31T15:16:42.703182Z",
     "shell.execute_reply.started": "2021-10-31T15:15:14.645728Z"
    },
    "papermill": {
     "duration": 0.043596,
     "end_time": "2021-10-31T15:16:42.703371",
     "exception": false,
     "start_time": "2021-10-31T15:16:42.659775",
     "status": "completed"
    },
    "tags": []
   },
   "outputs": [
    {
     "name": "stdout",
     "output_type": "stream",
     "text": [
      "Number of Rows 1338\n",
      "Number of Columns 7\n"
     ]
    }
   ],
   "source": [
    "print(\"Number of Rows\",data.shape[0])\n",
    "print(\"Number of Columns\",data.shape[1])"
   ]
  },
  {
   "cell_type": "markdown",
   "id": "2cd9d1c0",
   "metadata": {
    "papermill": {
     "duration": 0.03344,
     "end_time": "2021-10-31T15:16:42.770444",
     "exception": false,
     "start_time": "2021-10-31T15:16:42.737004",
     "status": "completed"
    },
    "tags": []
   },
   "source": [
    "### 4. Get Information About Our Dataset Like Total Number Rows, Total Number of Columns, Datatypes of Each Column And Memory Requirement"
   ]
  },
  {
   "cell_type": "code",
   "execution_count": 7,
   "id": "acd5837c",
   "metadata": {
    "execution": {
     "iopub.execute_input": "2021-10-31T15:16:42.841315Z",
     "iopub.status.busy": "2021-10-31T15:16:42.840704Z",
     "iopub.status.idle": "2021-10-31T15:16:42.868961Z",
     "shell.execute_reply": "2021-10-31T15:16:42.869847Z",
     "shell.execute_reply.started": "2021-10-31T15:15:14.676109Z"
    },
    "papermill": {
     "duration": 0.065918,
     "end_time": "2021-10-31T15:16:42.870151",
     "exception": false,
     "start_time": "2021-10-31T15:16:42.804233",
     "status": "completed"
    },
    "tags": []
   },
   "outputs": [
    {
     "name": "stdout",
     "output_type": "stream",
     "text": [
      "<class 'pandas.core.frame.DataFrame'>\n",
      "RangeIndex: 1338 entries, 0 to 1337\n",
      "Data columns (total 7 columns):\n",
      " #   Column    Non-Null Count  Dtype  \n",
      "---  ------    --------------  -----  \n",
      " 0   age       1338 non-null   int64  \n",
      " 1   sex       1338 non-null   object \n",
      " 2   bmi       1338 non-null   float64\n",
      " 3   children  1338 non-null   int64  \n",
      " 4   smoker    1338 non-null   object \n",
      " 5   region    1338 non-null   object \n",
      " 6   charges   1338 non-null   float64\n",
      "dtypes: float64(2), int64(2), object(3)\n",
      "memory usage: 73.3+ KB\n"
     ]
    }
   ],
   "source": [
    "data.info()"
   ]
  },
  {
   "cell_type": "markdown",
   "id": "98db3493",
   "metadata": {
    "papermill": {
     "duration": 0.038728,
     "end_time": "2021-10-31T15:16:42.953514",
     "exception": false,
     "start_time": "2021-10-31T15:16:42.914786",
     "status": "completed"
    },
    "tags": []
   },
   "source": [
    "### 5.Check Null Values In The Dataset"
   ]
  },
  {
   "cell_type": "code",
   "execution_count": 8,
   "id": "44f1e755",
   "metadata": {
    "execution": {
     "iopub.execute_input": "2021-10-31T15:16:43.039890Z",
     "iopub.status.busy": "2021-10-31T15:16:43.039062Z",
     "iopub.status.idle": "2021-10-31T15:16:43.049382Z",
     "shell.execute_reply": "2021-10-31T15:16:43.050091Z",
     "shell.execute_reply.started": "2021-10-31T15:15:14.702608Z"
    },
    "papermill": {
     "duration": 0.054903,
     "end_time": "2021-10-31T15:16:43.050302",
     "exception": false,
     "start_time": "2021-10-31T15:16:42.995399",
     "status": "completed"
    },
    "tags": []
   },
   "outputs": [
    {
     "data": {
      "text/plain": [
       "age         0\n",
       "sex         0\n",
       "bmi         0\n",
       "children    0\n",
       "smoker      0\n",
       "region      0\n",
       "charges     0\n",
       "dtype: int64"
      ]
     },
     "execution_count": 8,
     "metadata": {},
     "output_type": "execute_result"
    }
   ],
   "source": [
    "data.isnull().sum()\n"
   ]
  },
  {
   "cell_type": "code",
   "execution_count": 9,
   "id": "ced4da8b",
   "metadata": {},
   "outputs": [],
   "source": [
    "data.dropna(inplace = True)"
   ]
  },
  {
   "cell_type": "markdown",
   "id": "934c6ace",
   "metadata": {
    "papermill": {
     "duration": 0.035608,
     "end_time": "2021-10-31T15:16:43.133704",
     "exception": false,
     "start_time": "2021-10-31T15:16:43.098096",
     "status": "completed"
    },
    "tags": []
   },
   "source": [
    "### 6. Get Overall Statistics About The Dataset"
   ]
  },
  {
   "cell_type": "code",
   "execution_count": 10,
   "id": "dfa080e5",
   "metadata": {
    "execution": {
     "iopub.execute_input": "2021-10-31T15:16:43.216447Z",
     "iopub.status.busy": "2021-10-31T15:16:43.215413Z",
     "iopub.status.idle": "2021-10-31T15:16:43.253190Z",
     "shell.execute_reply": "2021-10-31T15:16:43.253998Z",
     "shell.execute_reply.started": "2021-10-31T15:15:14.717050Z"
    },
    "papermill": {
     "duration": 0.084545,
     "end_time": "2021-10-31T15:16:43.254266",
     "exception": false,
     "start_time": "2021-10-31T15:16:43.169721",
     "status": "completed"
    },
    "tags": []
   },
   "outputs": [
    {
     "data": {
      "text/html": [
       "<div>\n",
       "<style scoped>\n",
       "    .dataframe tbody tr th:only-of-type {\n",
       "        vertical-align: middle;\n",
       "    }\n",
       "\n",
       "    .dataframe tbody tr th {\n",
       "        vertical-align: top;\n",
       "    }\n",
       "\n",
       "    .dataframe thead th {\n",
       "        text-align: right;\n",
       "    }\n",
       "</style>\n",
       "<table border=\"1\" class=\"dataframe\">\n",
       "  <thead>\n",
       "    <tr style=\"text-align: right;\">\n",
       "      <th></th>\n",
       "      <th>age</th>\n",
       "      <th>sex</th>\n",
       "      <th>bmi</th>\n",
       "      <th>children</th>\n",
       "      <th>smoker</th>\n",
       "      <th>region</th>\n",
       "      <th>charges</th>\n",
       "    </tr>\n",
       "  </thead>\n",
       "  <tbody>\n",
       "    <tr>\n",
       "      <th>count</th>\n",
       "      <td>1338.000000</td>\n",
       "      <td>1338</td>\n",
       "      <td>1338.000000</td>\n",
       "      <td>1338.000000</td>\n",
       "      <td>1338</td>\n",
       "      <td>1338</td>\n",
       "      <td>1338.000000</td>\n",
       "    </tr>\n",
       "    <tr>\n",
       "      <th>unique</th>\n",
       "      <td>NaN</td>\n",
       "      <td>2</td>\n",
       "      <td>NaN</td>\n",
       "      <td>NaN</td>\n",
       "      <td>2</td>\n",
       "      <td>4</td>\n",
       "      <td>NaN</td>\n",
       "    </tr>\n",
       "    <tr>\n",
       "      <th>top</th>\n",
       "      <td>NaN</td>\n",
       "      <td>male</td>\n",
       "      <td>NaN</td>\n",
       "      <td>NaN</td>\n",
       "      <td>no</td>\n",
       "      <td>southeast</td>\n",
       "      <td>NaN</td>\n",
       "    </tr>\n",
       "    <tr>\n",
       "      <th>freq</th>\n",
       "      <td>NaN</td>\n",
       "      <td>676</td>\n",
       "      <td>NaN</td>\n",
       "      <td>NaN</td>\n",
       "      <td>1064</td>\n",
       "      <td>364</td>\n",
       "      <td>NaN</td>\n",
       "    </tr>\n",
       "    <tr>\n",
       "      <th>mean</th>\n",
       "      <td>39.207025</td>\n",
       "      <td>NaN</td>\n",
       "      <td>30.663397</td>\n",
       "      <td>1.094918</td>\n",
       "      <td>NaN</td>\n",
       "      <td>NaN</td>\n",
       "      <td>13270.422265</td>\n",
       "    </tr>\n",
       "    <tr>\n",
       "      <th>std</th>\n",
       "      <td>14.049960</td>\n",
       "      <td>NaN</td>\n",
       "      <td>6.098187</td>\n",
       "      <td>1.205493</td>\n",
       "      <td>NaN</td>\n",
       "      <td>NaN</td>\n",
       "      <td>12110.011237</td>\n",
       "    </tr>\n",
       "    <tr>\n",
       "      <th>min</th>\n",
       "      <td>18.000000</td>\n",
       "      <td>NaN</td>\n",
       "      <td>15.960000</td>\n",
       "      <td>0.000000</td>\n",
       "      <td>NaN</td>\n",
       "      <td>NaN</td>\n",
       "      <td>1121.873900</td>\n",
       "    </tr>\n",
       "    <tr>\n",
       "      <th>25%</th>\n",
       "      <td>27.000000</td>\n",
       "      <td>NaN</td>\n",
       "      <td>26.296250</td>\n",
       "      <td>0.000000</td>\n",
       "      <td>NaN</td>\n",
       "      <td>NaN</td>\n",
       "      <td>4740.287150</td>\n",
       "    </tr>\n",
       "    <tr>\n",
       "      <th>50%</th>\n",
       "      <td>39.000000</td>\n",
       "      <td>NaN</td>\n",
       "      <td>30.400000</td>\n",
       "      <td>1.000000</td>\n",
       "      <td>NaN</td>\n",
       "      <td>NaN</td>\n",
       "      <td>9382.033000</td>\n",
       "    </tr>\n",
       "    <tr>\n",
       "      <th>75%</th>\n",
       "      <td>51.000000</td>\n",
       "      <td>NaN</td>\n",
       "      <td>34.693750</td>\n",
       "      <td>2.000000</td>\n",
       "      <td>NaN</td>\n",
       "      <td>NaN</td>\n",
       "      <td>16639.912515</td>\n",
       "    </tr>\n",
       "    <tr>\n",
       "      <th>max</th>\n",
       "      <td>64.000000</td>\n",
       "      <td>NaN</td>\n",
       "      <td>53.130000</td>\n",
       "      <td>5.000000</td>\n",
       "      <td>NaN</td>\n",
       "      <td>NaN</td>\n",
       "      <td>63770.428010</td>\n",
       "    </tr>\n",
       "  </tbody>\n",
       "</table>\n",
       "</div>"
      ],
      "text/plain": [
       "                age   sex          bmi     children smoker     region  \\\n",
       "count   1338.000000  1338  1338.000000  1338.000000   1338       1338   \n",
       "unique          NaN     2          NaN          NaN      2          4   \n",
       "top             NaN  male          NaN          NaN     no  southeast   \n",
       "freq            NaN   676          NaN          NaN   1064        364   \n",
       "mean      39.207025   NaN    30.663397     1.094918    NaN        NaN   \n",
       "std       14.049960   NaN     6.098187     1.205493    NaN        NaN   \n",
       "min       18.000000   NaN    15.960000     0.000000    NaN        NaN   \n",
       "25%       27.000000   NaN    26.296250     0.000000    NaN        NaN   \n",
       "50%       39.000000   NaN    30.400000     1.000000    NaN        NaN   \n",
       "75%       51.000000   NaN    34.693750     2.000000    NaN        NaN   \n",
       "max       64.000000   NaN    53.130000     5.000000    NaN        NaN   \n",
       "\n",
       "             charges  \n",
       "count    1338.000000  \n",
       "unique           NaN  \n",
       "top              NaN  \n",
       "freq             NaN  \n",
       "mean    13270.422265  \n",
       "std     12110.011237  \n",
       "min      1121.873900  \n",
       "25%      4740.287150  \n",
       "50%      9382.033000  \n",
       "75%     16639.912515  \n",
       "max     63770.428010  "
      ]
     },
     "execution_count": 10,
     "metadata": {},
     "output_type": "execute_result"
    }
   ],
   "source": [
    "data.describe(include='all')"
   ]
  },
  {
   "cell_type": "markdown",
   "id": "61149265",
   "metadata": {
    "papermill": {
     "duration": 0.035312,
     "end_time": "2021-10-31T15:16:43.329573",
     "exception": false,
     "start_time": "2021-10-31T15:16:43.294261",
     "status": "completed"
    },
    "tags": []
   },
   "source": [
    "### 7. Covert Columns From String ['sex' ,'smoker','region' ] To Numerical Values "
   ]
  },
  {
   "cell_type": "code",
   "execution_count": 11,
   "id": "416d0533",
   "metadata": {
    "execution": {
     "iopub.execute_input": "2021-10-31T15:16:43.405623Z",
     "iopub.status.busy": "2021-10-31T15:16:43.404950Z",
     "iopub.status.idle": "2021-10-31T15:16:43.419095Z",
     "shell.execute_reply": "2021-10-31T15:16:43.418494Z",
     "shell.execute_reply.started": "2021-10-31T15:15:14.751392Z"
    },
    "papermill": {
     "duration": 0.054144,
     "end_time": "2021-10-31T15:16:43.419233",
     "exception": false,
     "start_time": "2021-10-31T15:16:43.365089",
     "status": "completed"
    },
    "tags": []
   },
   "outputs": [],
   "source": [
    "data['sex'].unique()\n",
    "data['sex']=data['sex'].map({'female':0,'male':1})\n",
    "data['smoker']=data['smoker'].map({'yes':1,'no':0})\n",
    "data['region']=data['region'].map({'southwest':1,'southeast':2,\n",
    "                   'northwest':3,'northeast':4})"
   ]
  },
  {
   "cell_type": "code",
   "execution_count": 12,
   "id": "2b689f72",
   "metadata": {
    "execution": {
     "iopub.execute_input": "2021-10-31T15:16:43.494075Z",
     "iopub.status.busy": "2021-10-31T15:16:43.493102Z",
     "iopub.status.idle": "2021-10-31T15:16:43.506190Z",
     "shell.execute_reply": "2021-10-31T15:16:43.505632Z",
     "shell.execute_reply.started": "2021-10-31T15:15:14.765045Z"
    },
    "papermill": {
     "duration": 0.051387,
     "end_time": "2021-10-31T15:16:43.506328",
     "exception": false,
     "start_time": "2021-10-31T15:16:43.454941",
     "status": "completed"
    },
    "tags": []
   },
   "outputs": [
    {
     "data": {
      "text/html": [
       "<div>\n",
       "<style scoped>\n",
       "    .dataframe tbody tr th:only-of-type {\n",
       "        vertical-align: middle;\n",
       "    }\n",
       "\n",
       "    .dataframe tbody tr th {\n",
       "        vertical-align: top;\n",
       "    }\n",
       "\n",
       "    .dataframe thead th {\n",
       "        text-align: right;\n",
       "    }\n",
       "</style>\n",
       "<table border=\"1\" class=\"dataframe\">\n",
       "  <thead>\n",
       "    <tr style=\"text-align: right;\">\n",
       "      <th></th>\n",
       "      <th>age</th>\n",
       "      <th>sex</th>\n",
       "      <th>bmi</th>\n",
       "      <th>children</th>\n",
       "      <th>smoker</th>\n",
       "      <th>region</th>\n",
       "      <th>charges</th>\n",
       "    </tr>\n",
       "  </thead>\n",
       "  <tbody>\n",
       "    <tr>\n",
       "      <th>0</th>\n",
       "      <td>19</td>\n",
       "      <td>0</td>\n",
       "      <td>27.900</td>\n",
       "      <td>0</td>\n",
       "      <td>1</td>\n",
       "      <td>1</td>\n",
       "      <td>16884.92400</td>\n",
       "    </tr>\n",
       "    <tr>\n",
       "      <th>1</th>\n",
       "      <td>18</td>\n",
       "      <td>1</td>\n",
       "      <td>33.770</td>\n",
       "      <td>1</td>\n",
       "      <td>0</td>\n",
       "      <td>2</td>\n",
       "      <td>1725.55230</td>\n",
       "    </tr>\n",
       "    <tr>\n",
       "      <th>2</th>\n",
       "      <td>28</td>\n",
       "      <td>1</td>\n",
       "      <td>33.000</td>\n",
       "      <td>3</td>\n",
       "      <td>0</td>\n",
       "      <td>2</td>\n",
       "      <td>4449.46200</td>\n",
       "    </tr>\n",
       "    <tr>\n",
       "      <th>3</th>\n",
       "      <td>33</td>\n",
       "      <td>1</td>\n",
       "      <td>22.705</td>\n",
       "      <td>0</td>\n",
       "      <td>0</td>\n",
       "      <td>3</td>\n",
       "      <td>21984.47061</td>\n",
       "    </tr>\n",
       "    <tr>\n",
       "      <th>4</th>\n",
       "      <td>32</td>\n",
       "      <td>1</td>\n",
       "      <td>28.880</td>\n",
       "      <td>0</td>\n",
       "      <td>0</td>\n",
       "      <td>3</td>\n",
       "      <td>3866.85520</td>\n",
       "    </tr>\n",
       "  </tbody>\n",
       "</table>\n",
       "</div>"
      ],
      "text/plain": [
       "   age  sex     bmi  children  smoker  region      charges\n",
       "0   19    0  27.900         0       1       1  16884.92400\n",
       "1   18    1  33.770         1       0       2   1725.55230\n",
       "2   28    1  33.000         3       0       2   4449.46200\n",
       "3   33    1  22.705         0       0       3  21984.47061\n",
       "4   32    1  28.880         0       0       3   3866.85520"
      ]
     },
     "execution_count": 12,
     "metadata": {},
     "output_type": "execute_result"
    }
   ],
   "source": [
    "data.head()"
   ]
  },
  {
   "cell_type": "markdown",
   "id": "21fc1e08",
   "metadata": {
    "papermill": {
     "duration": 0.035139,
     "end_time": "2021-10-31T15:16:43.576747",
     "exception": false,
     "start_time": "2021-10-31T15:16:43.541608",
     "status": "completed"
    },
    "tags": []
   },
   "source": [
    "### 8. Store Feature Matrix In X and Response(Target) In Vector y"
   ]
  },
  {
   "cell_type": "code",
   "execution_count": 13,
   "id": "9ba4a785",
   "metadata": {
    "execution": {
     "iopub.execute_input": "2021-10-31T15:16:43.654936Z",
     "iopub.status.busy": "2021-10-31T15:16:43.653851Z",
     "iopub.status.idle": "2021-10-31T15:16:43.659925Z",
     "shell.execute_reply": "2021-10-31T15:16:43.660466Z",
     "shell.execute_reply.started": "2021-10-31T15:15:14.785872Z"
    },
    "papermill": {
     "duration": 0.048364,
     "end_time": "2021-10-31T15:16:43.660680",
     "exception": false,
     "start_time": "2021-10-31T15:16:43.612316",
     "status": "completed"
    },
    "tags": []
   },
   "outputs": [],
   "source": [
    "X = data.drop(['charges'],axis=1)\n",
    "y = data['charges']"
   ]
  },
  {
   "cell_type": "markdown",
   "id": "cf260112",
   "metadata": {
    "papermill": {
     "duration": 0.035535,
     "end_time": "2021-10-31T15:16:43.731910",
     "exception": false,
     "start_time": "2021-10-31T15:16:43.696375",
     "status": "completed"
    },
    "tags": []
   },
   "source": [
    "### 9. Train/Test split\n",
    "#### 1. Split data into two part : a training set and a testing set\n",
    "#### 2. Train the model(s) on training set\n",
    "#### 3. Test the Model(s) on Testing set"
   ]
  },
  {
   "cell_type": "code",
   "execution_count": 14,
   "id": "ff30a3a5",
   "metadata": {
    "execution": {
     "iopub.execute_input": "2021-10-31T15:16:43.806719Z",
     "iopub.status.busy": "2021-10-31T15:16:43.806027Z",
     "iopub.status.idle": "2021-10-31T15:16:44.840689Z",
     "shell.execute_reply": "2021-10-31T15:16:44.840022Z",
     "shell.execute_reply.started": "2021-10-31T15:15:14.801132Z"
    },
    "papermill": {
     "duration": 1.073719,
     "end_time": "2021-10-31T15:16:44.840839",
     "exception": false,
     "start_time": "2021-10-31T15:16:43.767120",
     "status": "completed"
    },
    "tags": []
   },
   "outputs": [],
   "source": [
    "from sklearn.model_selection import train_test_split\n",
    "X_train,X_test,y_train,y_test=train_test_split(X,y,test_size=0.2,random_state=50)"
   ]
  },
  {
   "cell_type": "code",
   "execution_count": 15,
   "id": "5d0c4e7d",
   "metadata": {},
   "outputs": [
    {
     "name": "stdout",
     "output_type": "stream",
     "text": [
      "      age  sex     bmi  children  smoker  region\n",
      "1048   25    0  22.515         1       0       3\n",
      "45     55    1  37.300         0       0       1\n",
      "201    48    0  32.230         1       0       2\n",
      "153    42    0  23.370         0       1       4\n",
      "1251   19    1  19.800         0       0       1\n",
      "...   ...  ...     ...       ...     ...     ...\n",
      "229    47    1  25.460         2       0       4\n",
      "70     27    0  24.750         0       1       2\n",
      "132    53    0  35.900         2       0       1\n",
      "1313   19    0  34.700         2       1       1\n",
      "109    63    1  35.090         0       1       2\n",
      "\n",
      "[1070 rows x 6 columns]\n",
      "1048     3594.17085\n",
      "45      20630.28351\n",
      "201      8871.15170\n",
      "153     19964.74630\n",
      "1251     1241.56500\n",
      "           ...     \n",
      "229      9225.25640\n",
      "70      16577.77950\n",
      "132     11163.56800\n",
      "1313    36397.57600\n",
      "109     47055.53210\n",
      "Name: charges, Length: 1070, dtype: float64\n"
     ]
    }
   ],
   "source": [
    "print(X_train)\n",
    "print(y_train)"
   ]
  },
  {
   "cell_type": "markdown",
   "id": "ad8c91a8",
   "metadata": {
    "papermill": {
     "duration": 0.034701,
     "end_time": "2021-10-31T15:16:44.911111",
     "exception": false,
     "start_time": "2021-10-31T15:16:44.876410",
     "status": "completed"
    },
    "tags": []
   },
   "source": [
    "### 10. Import the models"
   ]
  },
  {
   "cell_type": "code",
   "execution_count": 16,
   "id": "249c4d09",
   "metadata": {
    "execution": {
     "iopub.execute_input": "2021-10-31T15:16:44.988479Z",
     "iopub.status.busy": "2021-10-31T15:16:44.987658Z",
     "iopub.status.idle": "2021-10-31T15:16:45.335703Z",
     "shell.execute_reply": "2021-10-31T15:16:45.336228Z",
     "shell.execute_reply.started": "2021-10-31T15:15:15.165236Z"
    },
    "papermill": {
     "duration": 0.390199,
     "end_time": "2021-10-31T15:16:45.336399",
     "exception": false,
     "start_time": "2021-10-31T15:16:44.946200",
     "status": "completed"
    },
    "tags": []
   },
   "outputs": [],
   "source": [
    "from sklearn.linear_model import LinearRegression\n",
    "from sklearn.svm import SVR\n",
    "from sklearn.ensemble import RandomForestRegressor\n",
    "from sklearn.ensemble import GradientBoostingRegressor"
   ]
  },
  {
   "cell_type": "markdown",
   "id": "0b116dd2",
   "metadata": {
    "papermill": {
     "duration": 0.034928,
     "end_time": "2021-10-31T15:16:45.406776",
     "exception": false,
     "start_time": "2021-10-31T15:16:45.371848",
     "status": "completed"
    },
    "tags": []
   },
   "source": [
    "### 11. Model Training"
   ]
  },
  {
   "cell_type": "code",
   "execution_count": 17,
   "id": "2ecb02a3",
   "metadata": {
    "execution": {
     "iopub.execute_input": "2021-10-31T15:16:45.540124Z",
     "iopub.status.busy": "2021-10-31T15:16:45.539154Z",
     "iopub.status.idle": "2021-10-31T15:16:46.118168Z",
     "shell.execute_reply": "2021-10-31T15:16:46.118704Z",
     "shell.execute_reply.started": "2021-10-31T15:15:15.410667Z"
    },
    "papermill": {
     "duration": 0.618103,
     "end_time": "2021-10-31T15:16:46.118887",
     "exception": false,
     "start_time": "2021-10-31T15:16:45.500784",
     "status": "completed"
    },
    "tags": []
   },
   "outputs": [
    {
     "data": {
      "text/html": [
       "<style>#sk-container-id-1 {color: black;background-color: white;}#sk-container-id-1 pre{padding: 0;}#sk-container-id-1 div.sk-toggleable {background-color: white;}#sk-container-id-1 label.sk-toggleable__label {cursor: pointer;display: block;width: 100%;margin-bottom: 0;padding: 0.3em;box-sizing: border-box;text-align: center;}#sk-container-id-1 label.sk-toggleable__label-arrow:before {content: \"▸\";float: left;margin-right: 0.25em;color: #696969;}#sk-container-id-1 label.sk-toggleable__label-arrow:hover:before {color: black;}#sk-container-id-1 div.sk-estimator:hover label.sk-toggleable__label-arrow:before {color: black;}#sk-container-id-1 div.sk-toggleable__content {max-height: 0;max-width: 0;overflow: hidden;text-align: left;background-color: #f0f8ff;}#sk-container-id-1 div.sk-toggleable__content pre {margin: 0.2em;color: black;border-radius: 0.25em;background-color: #f0f8ff;}#sk-container-id-1 input.sk-toggleable__control:checked~div.sk-toggleable__content {max-height: 200px;max-width: 100%;overflow: auto;}#sk-container-id-1 input.sk-toggleable__control:checked~label.sk-toggleable__label-arrow:before {content: \"▾\";}#sk-container-id-1 div.sk-estimator input.sk-toggleable__control:checked~label.sk-toggleable__label {background-color: #d4ebff;}#sk-container-id-1 div.sk-label input.sk-toggleable__control:checked~label.sk-toggleable__label {background-color: #d4ebff;}#sk-container-id-1 input.sk-hidden--visually {border: 0;clip: rect(1px 1px 1px 1px);clip: rect(1px, 1px, 1px, 1px);height: 1px;margin: -1px;overflow: hidden;padding: 0;position: absolute;width: 1px;}#sk-container-id-1 div.sk-estimator {font-family: monospace;background-color: #f0f8ff;border: 1px dotted black;border-radius: 0.25em;box-sizing: border-box;margin-bottom: 0.5em;}#sk-container-id-1 div.sk-estimator:hover {background-color: #d4ebff;}#sk-container-id-1 div.sk-parallel-item::after {content: \"\";width: 100%;border-bottom: 1px solid gray;flex-grow: 1;}#sk-container-id-1 div.sk-label:hover label.sk-toggleable__label {background-color: #d4ebff;}#sk-container-id-1 div.sk-serial::before {content: \"\";position: absolute;border-left: 1px solid gray;box-sizing: border-box;top: 0;bottom: 0;left: 50%;z-index: 0;}#sk-container-id-1 div.sk-serial {display: flex;flex-direction: column;align-items: center;background-color: white;padding-right: 0.2em;padding-left: 0.2em;position: relative;}#sk-container-id-1 div.sk-item {position: relative;z-index: 1;}#sk-container-id-1 div.sk-parallel {display: flex;align-items: stretch;justify-content: center;background-color: white;position: relative;}#sk-container-id-1 div.sk-item::before, #sk-container-id-1 div.sk-parallel-item::before {content: \"\";position: absolute;border-left: 1px solid gray;box-sizing: border-box;top: 0;bottom: 0;left: 50%;z-index: -1;}#sk-container-id-1 div.sk-parallel-item {display: flex;flex-direction: column;z-index: 1;position: relative;background-color: white;}#sk-container-id-1 div.sk-parallel-item:first-child::after {align-self: flex-end;width: 50%;}#sk-container-id-1 div.sk-parallel-item:last-child::after {align-self: flex-start;width: 50%;}#sk-container-id-1 div.sk-parallel-item:only-child::after {width: 0;}#sk-container-id-1 div.sk-dashed-wrapped {border: 1px dashed gray;margin: 0 0.4em 0.5em 0.4em;box-sizing: border-box;padding-bottom: 0.4em;background-color: white;}#sk-container-id-1 div.sk-label label {font-family: monospace;font-weight: bold;display: inline-block;line-height: 1.2em;}#sk-container-id-1 div.sk-label-container {text-align: center;}#sk-container-id-1 div.sk-container {/* jupyter's `normalize.less` sets `[hidden] { display: none; }` but bootstrap.min.css set `[hidden] { display: none !important; }` so we also need the `!important` here to be able to override the default hidden behavior on the sphinx rendered scikit-learn.org. See: https://github.com/scikit-learn/scikit-learn/issues/21755 */display: inline-block !important;position: relative;}#sk-container-id-1 div.sk-text-repr-fallback {display: none;}</style><div id=\"sk-container-id-1\" class=\"sk-top-container\"><div class=\"sk-text-repr-fallback\"><pre>GradientBoostingRegressor()</pre><b>In a Jupyter environment, please rerun this cell to show the HTML representation or trust the notebook. <br />On GitHub, the HTML representation is unable to render, please try loading this page with nbviewer.org.</b></div><div class=\"sk-container\" hidden><div class=\"sk-item\"><div class=\"sk-estimator sk-toggleable\"><input class=\"sk-toggleable__control sk-hidden--visually\" id=\"sk-estimator-id-1\" type=\"checkbox\" checked><label for=\"sk-estimator-id-1\" class=\"sk-toggleable__label sk-toggleable__label-arrow\">GradientBoostingRegressor</label><div class=\"sk-toggleable__content\"><pre>GradientBoostingRegressor()</pre></div></div></div></div></div>"
      ],
      "text/plain": [
       "GradientBoostingRegressor()"
      ]
     },
     "execution_count": 17,
     "metadata": {},
     "output_type": "execute_result"
    }
   ],
   "source": [
    "lr = LinearRegression()\n",
    "lr.fit(X_train,y_train)\n",
    "svm = SVR()\n",
    "svm.fit(X_train,y_train)\n",
    "rf = RandomForestRegressor()\n",
    "rf.fit(X_train,y_train)\n",
    "gr = GradientBoostingRegressor()\n",
    "gr.fit(X_train,y_train)"
   ]
  },
  {
   "cell_type": "markdown",
   "id": "5fb39352",
   "metadata": {
    "papermill": {
     "duration": 0.036324,
     "end_time": "2021-10-31T15:16:46.190777",
     "exception": false,
     "start_time": "2021-10-31T15:16:46.154453",
     "status": "completed"
    },
    "tags": []
   },
   "source": [
    "### 12. Prediction on Test Data"
   ]
  },
  {
   "cell_type": "code",
   "execution_count": 18,
   "id": "dee78dbd",
   "metadata": {
    "execution": {
     "iopub.execute_input": "2021-10-31T15:16:46.268094Z",
     "iopub.status.busy": "2021-10-31T15:16:46.267004Z",
     "iopub.status.idle": "2021-10-31T15:16:46.305694Z",
     "shell.execute_reply": "2021-10-31T15:16:46.304869Z",
     "shell.execute_reply.started": "2021-10-31T15:15:15.937476Z"
    },
    "papermill": {
     "duration": 0.078986,
     "end_time": "2021-10-31T15:16:46.305871",
     "exception": false,
     "start_time": "2021-10-31T15:16:46.226885",
     "status": "completed"
    },
    "tags": []
   },
   "outputs": [],
   "source": [
    "y_pred1 = lr.predict(X_test)\n",
    "y_pred2 = svm.predict(X_test)\n",
    "y_pred3 = rf.predict(X_test)\n",
    "y_pred4 = gr.predict(X_test)\n",
    "\n",
    "df1 = pd.DataFrame({'Actual':y_test,'Lr':y_pred1,\n",
    "                  'svm':y_pred2,'rf':y_pred3,'gr':y_pred4})"
   ]
  },
  {
   "cell_type": "code",
   "execution_count": 19,
   "id": "372232fb",
   "metadata": {
    "execution": {
     "iopub.execute_input": "2021-10-31T15:16:46.382875Z",
     "iopub.status.busy": "2021-10-31T15:16:46.382146Z",
     "iopub.status.idle": "2021-10-31T15:16:46.395556Z",
     "shell.execute_reply": "2021-10-31T15:16:46.396189Z",
     "shell.execute_reply.started": "2021-10-31T15:15:15.977860Z"
    },
    "papermill": {
     "duration": 0.054039,
     "end_time": "2021-10-31T15:16:46.396389",
     "exception": false,
     "start_time": "2021-10-31T15:16:46.342350",
     "status": "completed"
    },
    "tags": []
   },
   "outputs": [
    {
     "data": {
      "text/html": [
       "<div>\n",
       "<style scoped>\n",
       "    .dataframe tbody tr th:only-of-type {\n",
       "        vertical-align: middle;\n",
       "    }\n",
       "\n",
       "    .dataframe tbody tr th {\n",
       "        vertical-align: top;\n",
       "    }\n",
       "\n",
       "    .dataframe thead th {\n",
       "        text-align: right;\n",
       "    }\n",
       "</style>\n",
       "<table border=\"1\" class=\"dataframe\">\n",
       "  <thead>\n",
       "    <tr style=\"text-align: right;\">\n",
       "      <th></th>\n",
       "      <th>Actual</th>\n",
       "      <th>Lr</th>\n",
       "      <th>svm</th>\n",
       "      <th>rf</th>\n",
       "      <th>gr</th>\n",
       "    </tr>\n",
       "  </thead>\n",
       "  <tbody>\n",
       "    <tr>\n",
       "      <th>589</th>\n",
       "      <td>5976.83110</td>\n",
       "      <td>7922.868757</td>\n",
       "      <td>9182.474067</td>\n",
       "      <td>6163.626218</td>\n",
       "      <td>6672.807580</td>\n",
       "    </tr>\n",
       "    <tr>\n",
       "      <th>383</th>\n",
       "      <td>5846.91760</td>\n",
       "      <td>11684.988960</td>\n",
       "      <td>9172.145790</td>\n",
       "      <td>7074.161486</td>\n",
       "      <td>6332.251295</td>\n",
       "    </tr>\n",
       "    <tr>\n",
       "      <th>534</th>\n",
       "      <td>13831.11520</td>\n",
       "      <td>17116.735235</td>\n",
       "      <td>9331.695345</td>\n",
       "      <td>14157.914953</td>\n",
       "      <td>13219.898695</td>\n",
       "    </tr>\n",
       "    <tr>\n",
       "      <th>284</th>\n",
       "      <td>9625.92000</td>\n",
       "      <td>10931.108082</td>\n",
       "      <td>9277.201083</td>\n",
       "      <td>11931.600410</td>\n",
       "      <td>11419.734706</td>\n",
       "    </tr>\n",
       "    <tr>\n",
       "      <th>821</th>\n",
       "      <td>2680.94930</td>\n",
       "      <td>407.696566</td>\n",
       "      <td>9118.124662</td>\n",
       "      <td>8791.619384</td>\n",
       "      <td>7037.747383</td>\n",
       "    </tr>\n",
       "    <tr>\n",
       "      <th>...</th>\n",
       "      <td>...</td>\n",
       "      <td>...</td>\n",
       "      <td>...</td>\n",
       "      <td>...</td>\n",
       "      <td>...</td>\n",
       "    </tr>\n",
       "    <tr>\n",
       "      <th>871</th>\n",
       "      <td>3392.36520</td>\n",
       "      <td>4498.517129</td>\n",
       "      <td>9113.405728</td>\n",
       "      <td>3642.751905</td>\n",
       "      <td>5034.535155</td>\n",
       "    </tr>\n",
       "    <tr>\n",
       "      <th>496</th>\n",
       "      <td>4931.64700</td>\n",
       "      <td>4053.485793</td>\n",
       "      <td>9138.105311</td>\n",
       "      <td>9612.615728</td>\n",
       "      <td>6328.141107</td>\n",
       "    </tr>\n",
       "    <tr>\n",
       "      <th>578</th>\n",
       "      <td>9724.53000</td>\n",
       "      <td>10954.447315</td>\n",
       "      <td>9276.831736</td>\n",
       "      <td>11107.736358</td>\n",
       "      <td>12349.576691</td>\n",
       "    </tr>\n",
       "    <tr>\n",
       "      <th>1012</th>\n",
       "      <td>36580.28216</td>\n",
       "      <td>15914.042451</td>\n",
       "      <td>9323.634136</td>\n",
       "      <td>16795.013858</td>\n",
       "      <td>17329.396588</td>\n",
       "    </tr>\n",
       "    <tr>\n",
       "      <th>203</th>\n",
       "      <td>37133.89820</td>\n",
       "      <td>29938.974199</td>\n",
       "      <td>9122.117107</td>\n",
       "      <td>37504.909137</td>\n",
       "      <td>37565.948897</td>\n",
       "    </tr>\n",
       "  </tbody>\n",
       "</table>\n",
       "<p>268 rows × 5 columns</p>\n",
       "</div>"
      ],
      "text/plain": [
       "           Actual            Lr          svm            rf            gr\n",
       "589    5976.83110   7922.868757  9182.474067   6163.626218   6672.807580\n",
       "383    5846.91760  11684.988960  9172.145790   7074.161486   6332.251295\n",
       "534   13831.11520  17116.735235  9331.695345  14157.914953  13219.898695\n",
       "284    9625.92000  10931.108082  9277.201083  11931.600410  11419.734706\n",
       "821    2680.94930    407.696566  9118.124662   8791.619384   7037.747383\n",
       "...           ...           ...          ...           ...           ...\n",
       "871    3392.36520   4498.517129  9113.405728   3642.751905   5034.535155\n",
       "496    4931.64700   4053.485793  9138.105311   9612.615728   6328.141107\n",
       "578    9724.53000  10954.447315  9276.831736  11107.736358  12349.576691\n",
       "1012  36580.28216  15914.042451  9323.634136  16795.013858  17329.396588\n",
       "203   37133.89820  29938.974199  9122.117107  37504.909137  37565.948897\n",
       "\n",
       "[268 rows x 5 columns]"
      ]
     },
     "execution_count": 19,
     "metadata": {},
     "output_type": "execute_result"
    }
   ],
   "source": [
    "df1"
   ]
  },
  {
   "cell_type": "markdown",
   "id": "03bd798a",
   "metadata": {
    "papermill": {
     "duration": 0.036391,
     "end_time": "2021-10-31T15:16:46.469436",
     "exception": false,
     "start_time": "2021-10-31T15:16:46.433045",
     "status": "completed"
    },
    "tags": []
   },
   "source": [
    "### 13. Compare Performance Visually "
   ]
  },
  {
   "cell_type": "code",
   "execution_count": 20,
   "id": "f7d8fbca",
   "metadata": {
    "execution": {
     "iopub.execute_input": "2021-10-31T15:16:46.547727Z",
     "iopub.status.busy": "2021-10-31T15:16:46.547028Z",
     "iopub.status.idle": "2021-10-31T15:16:46.549743Z",
     "shell.execute_reply": "2021-10-31T15:16:46.550353Z",
     "shell.execute_reply.started": "2021-10-31T15:15:15.994998Z"
    },
    "papermill": {
     "duration": 0.04362,
     "end_time": "2021-10-31T15:16:46.550561",
     "exception": false,
     "start_time": "2021-10-31T15:16:46.506941",
     "status": "completed"
    },
    "tags": []
   },
   "outputs": [],
   "source": [
    "import matplotlib.pyplot as plt"
   ]
  },
  {
   "cell_type": "code",
   "execution_count": 21,
   "id": "c1ee29de",
   "metadata": {
    "execution": {
     "iopub.execute_input": "2021-10-31T15:16:46.627317Z",
     "iopub.status.busy": "2021-10-31T15:16:46.626609Z",
     "iopub.status.idle": "2021-10-31T15:16:47.433564Z",
     "shell.execute_reply": "2021-10-31T15:16:47.434080Z",
     "shell.execute_reply.started": "2021-10-31T15:15:16.006557Z"
    },
    "papermill": {
     "duration": 0.846984,
     "end_time": "2021-10-31T15:16:47.434275",
     "exception": false,
     "start_time": "2021-10-31T15:16:46.587291",
     "status": "completed"
    },
    "tags": []
   },
   "outputs": [
    {
     "data": {
      "text/plain": [
       "<matplotlib.legend.Legend at 0x1607401ac50>"
      ]
     },
     "execution_count": 21,
     "metadata": {},
     "output_type": "execute_result"
    },
    {
     "data": {
      "image/png": "[encoded data removed]",
      "text/plain": [
       "<Figure size 640x480 with 4 Axes>"
      ]
     },
     "metadata": {},
     "output_type": "display_data"
    }
   ],
   "source": [
    "plt.subplot(221)\n",
    "plt.plot(df1['Actual'].iloc[0:11],label='Actual')\n",
    "plt.plot(df1['Lr'].iloc[0:11],label=\"Lr\")\n",
    "plt.legend()\n",
    "\n",
    "plt.subplot(222)\n",
    "plt.plot(df1['Actual'].iloc[0:11],label='Actual')\n",
    "plt.plot(df1['svm'].iloc[0:11],label=\"svr\")\n",
    "plt.legend()\n",
    "\n",
    "plt.subplot(223)\n",
    "plt.plot(df1['Actual'].iloc[0:11],label='Actual')\n",
    "plt.plot(df1['rf'].iloc[0:11],label=\"rf\")\n",
    "plt.legend()\n",
    "\n",
    "plt.subplot(224)\n",
    "plt.plot(df1['Actual'].iloc[0:11],label='Actual')\n",
    "plt.plot(df1['gr'].iloc[0:11],label=\"gr\")\n",
    "\n",
    "plt.tight_layout()\n",
    "plt.legend()"
   ]
  },
  {
   "cell_type": "markdown",
   "id": "b6553792",
   "metadata": {
    "papermill": {
     "duration": 0.039642,
     "end_time": "2021-10-31T15:16:47.514014",
     "exception": false,
     "start_time": "2021-10-31T15:16:47.474372",
     "status": "completed"
    },
    "tags": []
   },
   "source": [
    "### 14. Evaluating the Algorithm"
   ]
  },
  {
   "cell_type": "code",
   "execution_count": 22,
   "id": "3b7435ff",
   "metadata": {
    "execution": {
     "iopub.execute_input": "2021-10-31T15:16:47.596572Z",
     "iopub.status.busy": "2021-10-31T15:16:47.595734Z",
     "iopub.status.idle": "2021-10-31T15:16:47.597435Z",
     "shell.execute_reply": "2021-10-31T15:16:47.597973Z",
     "shell.execute_reply.started": "2021-10-31T15:15:16.626391Z"
    },
    "papermill": {
     "duration": 0.045411,
     "end_time": "2021-10-31T15:16:47.598149",
     "exception": false,
     "start_time": "2021-10-31T15:16:47.552738",
     "status": "completed"
    },
    "tags": []
   },
   "outputs": [],
   "source": [
    "from sklearn import metrics"
   ]
  },
  {
   "cell_type": "code",
   "execution_count": 23,
   "id": "1571d25f",
   "metadata": {
    "execution": {
     "iopub.execute_input": "2021-10-31T15:16:47.682040Z",
     "iopub.status.busy": "2021-10-31T15:16:47.681256Z",
     "iopub.status.idle": "2021-10-31T15:16:47.687431Z",
     "shell.execute_reply": "2021-10-31T15:16:47.686872Z",
     "shell.execute_reply.started": "2021-10-31T15:15:16.633388Z"
    },
    "papermill": {
     "duration": 0.050472,
     "end_time": "2021-10-31T15:16:47.687609",
     "exception": false,
     "start_time": "2021-10-31T15:16:47.637137",
     "status": "completed"
    },
    "tags": []
   },
   "outputs": [],
   "source": [
    "score1 = metrics.r2_score(y_test,y_pred1)\n",
    "score2 = metrics.r2_score(y_test,y_pred2)\n",
    "score3 = metrics.r2_score(y_test,y_pred3)\n",
    "score4 = metrics.r2_score(y_test,y_pred4)"
   ]
  },
  {
   "cell_type": "code",
   "execution_count": 24,
   "id": "cc002f85",
   "metadata": {
    "execution": {
     "iopub.execute_input": "2021-10-31T15:16:47.771373Z",
     "iopub.status.busy": "2021-10-31T15:16:47.770720Z",
     "iopub.status.idle": "2021-10-31T15:16:47.773928Z",
     "shell.execute_reply": "2021-10-31T15:16:47.773363Z",
     "shell.execute_reply.started": "2021-10-31T15:15:16.650456Z"
    },
    "papermill": {
     "duration": 0.047289,
     "end_time": "2021-10-31T15:16:47.774066",
     "exception": false,
     "start_time": "2021-10-31T15:16:47.726777",
     "status": "completed"
    },
    "tags": []
   },
   "outputs": [
    {
     "name": "stdout",
     "output_type": "stream",
     "text": [
      "0.7866124253214011 -0.1390430797189086 0.8615142674995921 0.8764854793725114\n"
     ]
    }
   ],
   "source": [
    "print(score1,score2,score3,score4)"
   ]
  },
  {
   "cell_type": "code",
   "execution_count": 25,
   "id": "a7c07788",
   "metadata": {
    "execution": {
     "iopub.execute_input": "2021-10-31T15:16:47.861781Z",
     "iopub.status.busy": "2021-10-31T15:16:47.860898Z",
     "iopub.status.idle": "2021-10-31T15:16:47.864058Z",
     "shell.execute_reply": "2021-10-31T15:16:47.863387Z",
     "shell.execute_reply.started": "2021-10-31T15:15:16.658106Z"
    },
    "papermill": {
     "duration": 0.050385,
     "end_time": "2021-10-31T15:16:47.864196",
     "exception": false,
     "start_time": "2021-10-31T15:16:47.813811",
     "status": "completed"
    },
    "tags": []
   },
   "outputs": [],
   "source": [
    "s1 = metrics.mean_absolute_error(y_test,y_pred1)\n",
    "s2 = metrics.mean_absolute_error(y_test,y_pred2)\n",
    "s3 = metrics.mean_absolute_error(y_test,y_pred3)\n",
    "s4 = metrics.mean_absolute_error(y_test,y_pred4)"
   ]
  },
  {
   "cell_type": "code",
   "execution_count": 26,
   "id": "c9a52141",
   "metadata": {
    "execution": {
     "iopub.execute_input": "2021-10-31T15:16:47.949316Z",
     "iopub.status.busy": "2021-10-31T15:16:47.948408Z",
     "iopub.status.idle": "2021-10-31T15:16:47.953730Z",
     "shell.execute_reply": "2021-10-31T15:16:47.952960Z",
     "shell.execute_reply.started": "2021-10-31T15:15:16.672327Z"
    },
    "papermill": {
     "duration": 0.050283,
     "end_time": "2021-10-31T15:16:47.953915",
     "exception": false,
     "start_time": "2021-10-31T15:16:47.903632",
     "status": "completed"
    },
    "tags": []
   },
   "outputs": [
    {
     "name": "stdout",
     "output_type": "stream",
     "text": [
      "3949.1597402875386 8811.919960484822 2642.9145420733707 2483.7489995991555\n"
     ]
    }
   ],
   "source": [
    "print(s1,s2,s3,s4)"
   ]
  },
  {
   "cell_type": "markdown",
   "id": "d3c47351",
   "metadata": {
    "papermill": {
     "duration": 0.039385,
     "end_time": "2021-10-31T15:16:48.034621",
     "exception": false,
     "start_time": "2021-10-31T15:16:47.995236",
     "status": "completed"
    },
    "tags": []
   },
   "source": [
    "### 15. Predict Charges For New Customer"
   ]
  },
  {
   "cell_type": "code",
   "execution_count": 27,
   "id": "f7e40385",
   "metadata": {
    "execution": {
     "iopub.execute_input": "2021-10-31T15:16:48.119905Z",
     "iopub.status.busy": "2021-10-31T15:16:48.119251Z",
     "iopub.status.idle": "2021-10-31T15:16:48.121989Z",
     "shell.execute_reply": "2021-10-31T15:16:48.122488Z",
     "shell.execute_reply.started": "2021-10-31T15:15:16.681923Z"
    },
    "papermill": {
     "duration": 0.047856,
     "end_time": "2021-10-31T15:16:48.122751",
     "exception": false,
     "start_time": "2021-10-31T15:16:48.074895",
     "status": "completed"
    },
    "tags": []
   },
   "outputs": [],
   "source": [
    "data = {'age' : 40,\n",
    "        'sex' : 1,\n",
    "        'bmi' : 40.30,\n",
    "        'children' : 4,\n",
    "        'smoker' : 1,\n",
    "        'region' : 2}"
   ]
  },
  {
   "cell_type": "code",
   "execution_count": 28,
   "id": "4be81eeb",
   "metadata": {
    "execution": {
     "iopub.execute_input": "2021-10-31T15:16:48.217849Z",
     "iopub.status.busy": "2021-10-31T15:16:48.216903Z",
     "iopub.status.idle": "2021-10-31T15:16:48.220581Z",
     "shell.execute_reply": "2021-10-31T15:16:48.221107Z",
     "shell.execute_reply.started": "2021-10-31T15:15:16.693636Z"
    },
    "papermill": {
     "duration": 0.058439,
     "end_time": "2021-10-31T15:16:48.221299",
     "exception": false,
     "start_time": "2021-10-31T15:16:48.162860",
     "status": "completed"
    },
    "tags": []
   },
   "outputs": [
    {
     "data": {
      "text/html": [
       "<div>\n",
       "<style scoped>\n",
       "    .dataframe tbody tr th:only-of-type {\n",
       "        vertical-align: middle;\n",
       "    }\n",
       "\n",
       "    .dataframe tbody tr th {\n",
       "        vertical-align: top;\n",
       "    }\n",
       "\n",
       "    .dataframe thead th {\n",
       "        text-align: right;\n",
       "    }\n",
       "</style>\n",
       "<table border=\"1\" class=\"dataframe\">\n",
       "  <thead>\n",
       "    <tr style=\"text-align: right;\">\n",
       "      <th></th>\n",
       "      <th>age</th>\n",
       "      <th>sex</th>\n",
       "      <th>bmi</th>\n",
       "      <th>children</th>\n",
       "      <th>smoker</th>\n",
       "      <th>region</th>\n",
       "    </tr>\n",
       "  </thead>\n",
       "  <tbody>\n",
       "    <tr>\n",
       "      <th>0</th>\n",
       "      <td>40</td>\n",
       "      <td>1</td>\n",
       "      <td>40.3</td>\n",
       "      <td>4</td>\n",
       "      <td>1</td>\n",
       "      <td>2</td>\n",
       "    </tr>\n",
       "  </tbody>\n",
       "</table>\n",
       "</div>"
      ],
      "text/plain": [
       "   age  sex   bmi  children  smoker  region\n",
       "0   40    1  40.3         4       1       2"
      ]
     },
     "execution_count": 28,
     "metadata": {},
     "output_type": "execute_result"
    }
   ],
   "source": [
    "df = pd.DataFrame(data,index=[0])\n",
    "df"
   ]
  },
  {
   "cell_type": "code",
   "execution_count": 29,
   "id": "df11c99a",
   "metadata": {
    "execution": {
     "iopub.execute_input": "2021-10-31T15:16:48.312464Z",
     "iopub.status.busy": "2021-10-31T15:16:48.311656Z",
     "iopub.status.idle": "2021-10-31T15:16:48.315021Z",
     "shell.execute_reply": "2021-10-31T15:16:48.315553Z",
     "shell.execute_reply.started": "2021-10-31T15:15:16.716483Z"
    },
    "papermill": {
     "duration": 0.05411,
     "end_time": "2021-10-31T15:16:48.315756",
     "exception": false,
     "start_time": "2021-10-31T15:16:48.261646",
     "status": "completed"
    },
    "tags": []
   },
   "outputs": [
    {
     "name": "stdout",
     "output_type": "stream",
     "text": [
      "Medical Insurance cost for New Customer is :  43639.29053443173\n"
     ]
    }
   ],
   "source": [
    "new_pred = gr.predict(df)\n",
    "print(\"Medical Insurance cost for New Customer is : \",new_pred[0])"
   ]
  },
  {
   "cell_type": "markdown",
   "id": "dc8190fc",
   "metadata": {
    "papermill": {
     "duration": 0.039438,
     "end_time": "2021-10-31T15:16:48.395991",
     "exception": false,
     "start_time": "2021-10-31T15:16:48.356553",
     "status": "completed"
    },
    "tags": []
   },
   "source": [
    "### From above we found that gredianBoostingRegressor is the best model for this dataset. Before production, it is good practice to train our model on the entire dataset."
   ]
  },
  {
   "cell_type": "code",
   "execution_count": 30,
   "id": "30ab708b",
   "metadata": {
    "execution": {
     "iopub.execute_input": "2021-10-31T15:16:48.486922Z",
     "iopub.status.busy": "2021-10-31T15:16:48.486246Z",
     "iopub.status.idle": "2021-10-31T15:16:48.610687Z",
     "shell.execute_reply": "2021-10-31T15:16:48.609642Z",
     "shell.execute_reply.started": "2021-10-31T15:15:16.725466Z"
    },
    "papermill": {
     "duration": 0.173821,
     "end_time": "2021-10-31T15:16:48.610833",
     "exception": false,
     "start_time": "2021-10-31T15:16:48.437012",
     "status": "completed"
    },
    "tags": []
   },
   "outputs": [
    {
     "data": {
      "text/html": [
       "<style>#sk-container-id-2 {color: black;background-color: white;}#sk-container-id-2 pre{padding: 0;}#sk-container-id-2 div.sk-toggleable {background-color: white;}#sk-container-id-2 label.sk-toggleable__label {cursor: pointer;display: block;width: 100%;margin-bottom: 0;padding: 0.3em;box-sizing: border-box;text-align: center;}#sk-container-id-2 label.sk-toggleable__label-arrow:before {content: \"▸\";float: left;margin-right: 0.25em;color: #696969;}#sk-container-id-2 label.sk-toggleable__label-arrow:hover:before {color: black;}#sk-container-id-2 div.sk-estimator:hover label.sk-toggleable__label-arrow:before {color: black;}#sk-container-id-2 div.sk-toggleable__content {max-height: 0;max-width: 0;overflow: hidden;text-align: left;background-color: #f0f8ff;}#sk-container-id-2 div.sk-toggleable__content pre {margin: 0.2em;color: black;border-radius: 0.25em;background-color: #f0f8ff;}#sk-container-id-2 input.sk-toggleable__control:checked~div.sk-toggleable__content {max-height: 200px;max-width: 100%;overflow: auto;}#sk-container-id-2 input.sk-toggleable__control:checked~label.sk-toggleable__label-arrow:before {content: \"▾\";}#sk-container-id-2 div.sk-estimator input.sk-toggleable__control:checked~label.sk-toggleable__label {background-color: #d4ebff;}#sk-container-id-2 div.sk-label input.sk-toggleable__control:checked~label.sk-toggleable__label {background-color: #d4ebff;}#sk-container-id-2 input.sk-hidden--visually {border: 0;clip: rect(1px 1px 1px 1px);clip: rect(1px, 1px, 1px, 1px);height: 1px;margin: -1px;overflow: hidden;padding: 0;position: absolute;width: 1px;}#sk-container-id-2 div.sk-estimator {font-family: monospace;background-color: #f0f8ff;border: 1px dotted black;border-radius: 0.25em;box-sizing: border-box;margin-bottom: 0.5em;}#sk-container-id-2 div.sk-estimator:hover {background-color: #d4ebff;}#sk-container-id-2 div.sk-parallel-item::after {content: \"\";width: 100%;border-bottom: 1px solid gray;flex-grow: 1;}#sk-container-id-2 div.sk-label:hover label.sk-toggleable__label {background-color: #d4ebff;}#sk-container-id-2 div.sk-serial::before {content: \"\";position: absolute;border-left: 1px solid gray;box-sizing: border-box;top: 0;bottom: 0;left: 50%;z-index: 0;}#sk-container-id-2 div.sk-serial {display: flex;flex-direction: column;align-items: center;background-color: white;padding-right: 0.2em;padding-left: 0.2em;position: relative;}#sk-container-id-2 div.sk-item {position: relative;z-index: 1;}#sk-container-id-2 div.sk-parallel {display: flex;align-items: stretch;justify-content: center;background-color: white;position: relative;}#sk-container-id-2 div.sk-item::before, #sk-container-id-2 div.sk-parallel-item::before {content: \"\";position: absolute;border-left: 1px solid gray;box-sizing: border-box;top: 0;bottom: 0;left: 50%;z-index: -1;}#sk-container-id-2 div.sk-parallel-item {display: flex;flex-direction: column;z-index: 1;position: relative;background-color: white;}#sk-container-id-2 div.sk-parallel-item:first-child::after {align-self: flex-end;width: 50%;}#sk-container-id-2 div.sk-parallel-item:last-child::after {align-self: flex-start;width: 50%;}#sk-container-id-2 div.sk-parallel-item:only-child::after {width: 0;}#sk-container-id-2 div.sk-dashed-wrapped {border: 1px dashed gray;margin: 0 0.4em 0.5em 0.4em;box-sizing: border-box;padding-bottom: 0.4em;background-color: white;}#sk-container-id-2 div.sk-label label {font-family: monospace;font-weight: bold;display: inline-block;line-height: 1.2em;}#sk-container-id-2 div.sk-label-container {text-align: center;}#sk-container-id-2 div.sk-container {/* jupyter's `normalize.less` sets `[hidden] { display: none; }` but bootstrap.min.css set `[hidden] { display: none !important; }` so we also need the `!important` here to be able to override the default hidden behavior on the sphinx rendered scikit-learn.org. See: https://github.com/scikit-learn/scikit-learn/issues/21755 */display: inline-block !important;position: relative;}#sk-container-id-2 div.sk-text-repr-fallback {display: none;}</style><div id=\"sk-container-id-2\" class=\"sk-top-container\"><div class=\"sk-text-repr-fallback\"><pre>GradientBoostingRegressor()</pre><b>In a Jupyter environment, please rerun this cell to show the HTML representation or trust the notebook. <br />On GitHub, the HTML representation is unable to render, please try loading this page with nbviewer.org.</b></div><div class=\"sk-container\" hidden><div class=\"sk-item\"><div class=\"sk-estimator sk-toggleable\"><input class=\"sk-toggleable__control sk-hidden--visually\" id=\"sk-estimator-id-2\" type=\"checkbox\" checked><label for=\"sk-estimator-id-2\" class=\"sk-toggleable__label sk-toggleable__label-arrow\">GradientBoostingRegressor</label><div class=\"sk-toggleable__content\"><pre>GradientBoostingRegressor()</pre></div></div></div></div></div>"
      ],
      "text/plain": [
       "GradientBoostingRegressor()"
      ]
     },
     "execution_count": 30,
     "metadata": {},
     "output_type": "execute_result"
    }
   ],
   "source": [
    "gr = GradientBoostingRegressor()\n",
    "gr.fit(X,y)"
   ]
  },
  {
   "cell_type": "markdown",
   "id": "80cd7bfb",
   "metadata": {},
   "source": [
    "## New Model"
   ]
  },
  {
   "cell_type": "code",
   "execution_count": 31,
   "id": "a5701928",
   "metadata": {},
   "outputs": [
    {
     "data": {
      "text/plain": [
       "['model_joblib_gr']"
      ]
     },
     "execution_count": 31,
     "metadata": {},
     "output_type": "execute_result"
    }
   ],
   "source": [
    "import joblib\n",
    "joblib.dump(gr,'model_joblib_gr')"
   ]
  },
  {
   "cell_type": "code",
   "execution_count": 32,
   "id": "2686a588",
   "metadata": {},
   "outputs": [],
   "source": [
    "model = joblib.load('model_joblib_gr')"
   ]
  },
  {
   "cell_type": "code",
   "execution_count": 33,
   "id": "633be6a0",
   "metadata": {},
   "outputs": [
    {
     "data": {
      "text/plain": [
       "array([42148.361888])"
      ]
     },
     "execution_count": 33,
     "metadata": {},
     "output_type": "execute_result"
    }
   ],
   "source": [
    "model.predict(df)"
   ]
  },
  {
   "cell_type": "markdown",
   "id": "3706660b",
   "metadata": {
    "papermill": {
     "duration": 0.040511,
     "end_time": "2021-10-31T15:16:48.692373",
     "exception": false,
     "start_time": "2021-10-31T15:16:48.651862",
     "status": "completed"
    },
    "tags": []
   },
   "source": [
    "### Predict Charges For New Customer"
   ]
  },
  {
   "cell_type": "code",
   "execution_count": 34,
   "id": "a4ef9cfe",
   "metadata": {
    "execution": {
     "iopub.execute_input": "2021-10-31T15:16:48.777796Z",
     "iopub.status.busy": "2021-10-31T15:16:48.777047Z",
     "iopub.status.idle": "2021-10-31T15:16:48.784577Z",
     "shell.execute_reply": "2021-10-31T15:16:48.785570Z",
     "shell.execute_reply.started": "2021-10-31T15:16:11.279209Z"
    },
    "papermill": {
     "duration": 0.053046,
     "end_time": "2021-10-31T15:16:48.785920",
     "exception": false,
     "start_time": "2021-10-31T15:16:48.732874",
     "status": "completed"
    },
    "tags": []
   },
   "outputs": [
    {
     "name": "stdout",
     "output_type": "stream",
     "text": [
      "Medical Insurance cost for New Customer is :  42148.36188800322\n"
     ]
    }
   ],
   "source": [
    "new_pred = gr.predict(df)\n",
    "print(\"Medical Insurance cost for New Customer is : \",new_pred[0])"
   ]
  },
  {
   "cell_type": "markdown",
   "id": "16d0184a",
   "metadata": {
    "papermill": {
     "duration": 0.040547,
     "end_time": "2021-10-31T15:16:48.868037",
     "exception": false,
     "start_time": "2021-10-31T15:16:48.827490",
     "status": "completed"
    },
    "tags": []
   },
   "source": [
    "## GUI"
   ]
  },
  {
   "cell_type": "code",
   "execution_count": 35,
   "id": "41138e69",
   "metadata": {},
   "outputs": [],
   "source": [
    "from tkinter import *"
   ]
  },
  {
   "cell_type": "code",
   "execution_count": 36,
   "id": "a3604276",
   "metadata": {},
   "outputs": [],
   "source": [
    "import joblib"
   ]
  },
  {
   "cell_type": "code",
   "execution_count": 37,
   "id": "eb5e5a36",
   "metadata": {},
   "outputs": [],
   "source": [
    "def show_entry():\n",
    "    p1 = float(e1.get())\n",
    "    p2 = float(e2.get())\n",
    "    p3 = float(e3.get())\n",
    "    p4 = float(e4.get())\n",
    "    p5 = float(e5.get())\n",
    "    p6 = float(e6.get())\n",
    "    \n",
    "    model = joblib.load('model_joblib_gr')\n",
    "    res = model.predict([[p1,p2,p3,p4,p5,p6]])\n",
    "    \n",
    "    Label(master, text = \"Cost of Insurance: \").grid(row=7)\n",
    "    Label(master, text= res).grid(row=8)\n",
    "\n",
    "master = Tk()\n",
    "master.title('Insurance Price Predection')\n",
    "Label(master, text = \"Enter your Age: \").grid(row=1)\n",
    "Label(master, text = \"Enter your Gender(Male - 1/Female - 0): \").grid(row=2)\n",
    "Label(master, text = \"Enter your BMI Value: \").grid(row=3)\n",
    "Label(master, text = \"Enter the Number of Children: \").grid(row=4)\n",
    "Label(master, text = \"Smoker - 1 / Non Smoker - 0 (1/0): \").grid(row=5)\n",
    "Label(master, text = \"Enter your region [1-4]:  \").grid(row=6)\n",
    "\n",
    "e1 = Entry(master)\n",
    "e2 = Entry(master)\n",
    "e3 = Entry(master)\n",
    "e4 = Entry(master)\n",
    "e5 = Entry(master)\n",
    "e6 = Entry(master)\n",
    "\n",
    "e1.grid(row=1, column=1)\n",
    "e2.grid(row=2, column=1)\n",
    "e3.grid(row=3, column=1)\n",
    "e4.grid(row=4, column=1)\n",
    "e5.grid(row=5, column=1)\n",
    "e6.grid(row=6, column=1)\n",
    "\n",
    "Button(master, text=\"Predict\", command=show_entry).grid()\n",
    "\n",
    "mainloop()\n"
   ]
  },
  {
   "cell_type": "markdown",
   "id": "5e3d1a00",
   "metadata": {},
   "source": [
    "This will open a new application in your computer.\n",
    "Please fill in all the details to Predict your Insurance Premiun charges."
   ]
  }
 ],
 "metadata": {
  "kernelspec": {
   "display_name": "Python 3 (ipykernel)",
   "language": "python",
   "name": "python3"
  },
  "language_info": {
   "codemirror_mode": {
    "name": "ipython",
    "version": 3
   },
   "file_extension": ".py",
   "mimetype": "text/x-python",
   "name": "python",
   "nbconvert_exporter": "python",
   "pygments_lexer": "ipython3",
   "version": "3.11.3"
  },
  "papermill": {
   "default_parameters": {},
   "duration": 17.466367,
   "end_time": "2021-10-31T15:16:49.923395",
   "environment_variables": {},
   "exception": null,
   "input_path": "__notebook__.ipynb",
   "output_path": "__notebook__.ipynb",
   "parameters": {},
   "start_time": "2021-10-31T15:16:32.457028",
   "version": "2.3.3"
  }
 },
 "nbformat": 4,
 "nbformat_minor": 5
}
